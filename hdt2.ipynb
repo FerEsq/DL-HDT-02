{
  "cells": [
    {
      "cell_type": "markdown",
      "metadata": {
        "id": "Ic2I5Iw0bWQS"
      },
      "source": [
        "# Hoja de Trabajo #2\n",
        "## Deep Learning y Sistemas Inteligentes\n",
        "\n",
        "### Miembros\n",
        "- Fernanda Esquivel 21542\n",
        "- Melissa Pérez 21385\n",
        "\n",
        "### Link al repositorio\n",
        "El repositorio puede ser visualizado [acá](https://github.com/FerEsq/DL-HDT-02)\n"
      ]
    }
  ],
  "metadata": {
    "colab": {
      "provenance": []
    },
    "kernelspec": {
      "display_name": "Python 3",
      "name": "python3"
    },
    "language_info": {
      "codemirror_mode": {
        "name": "ipython",
        "version": 3
      },
      "file_extension": ".py",
      "mimetype": "text/x-python",
      "name": "python",
      "nbconvert_exporter": "python",
      "pygments_lexer": "ipython3",
      "version": "3.10.11"
    }
  },
  "nbformat": 4,
  "nbformat_minor": 0
}
