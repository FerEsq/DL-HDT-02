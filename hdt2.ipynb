{
  "cells": [
    {
      "cell_type": "markdown",
      "metadata": {
        "id": "Ic2I5Iw0bWQS"
      },
      "source": [
        "# Hoja de Trabajo #2\n",
        "## Deep Learning y Sistemas Inteligentes\n",
        "\n",
        "### Miembros\n",
        "- Fernanda Esquivel 21542\n",
        "- Melissa Pérez 21385\n",
        "\n",
        "### Link al repositorio\n",
        "El repositorio puede ser visualizado [acá](https://github.com/FerEsq/DL-HDT-02)\n"
      ]
    },
    {
      "cell_type": "markdown",
      "metadata": {},
      "source": [
        "# Ejercicio 1\n",
        "\n",
        "En esta actividad, implementará y comparará diferentes funciones de pérdida y técnicas de regularización\n",
        "utilizando PyTorch. Utilizará el conjunto de datos de Iris para una tarea de clasificación y una arquitectura básica de\n",
        "red neuronal de feedforward. El objetivo es observar cómo las diferentes opciones impactan la convergencia y el\n",
        "rendimiento del modelo."
      ]
    },
    {
      "cell_type": "markdown",
      "metadata": {},
      "source": [
        "## Task 1"
      ]
    },
    {
      "cell_type": "code",
      "execution_count": 2,
      "metadata": {},
      "outputs": [],
      "source": [
        "from sklearn.datasets import load_iris\n",
        "from sklearn.model_selection import train_test_split\n",
        "import pandas as pd"
      ]
    },
    {
      "cell_type": "code",
      "execution_count": 3,
      "metadata": {},
      "outputs": [
        {
          "data": {
            "text/html": [
              "<div>\n",
              "<style scoped>\n",
              "    .dataframe tbody tr th:only-of-type {\n",
              "        vertical-align: middle;\n",
              "    }\n",
              "\n",
              "    .dataframe tbody tr th {\n",
              "        vertical-align: top;\n",
              "    }\n",
              "\n",
              "    .dataframe thead th {\n",
              "        text-align: right;\n",
              "    }\n",
              "</style>\n",
              "<table border=\"1\" class=\"dataframe\">\n",
              "  <thead>\n",
              "    <tr style=\"text-align: right;\">\n",
              "      <th></th>\n",
              "      <th>sepal length (cm)</th>\n",
              "      <th>sepal width (cm)</th>\n",
              "      <th>petal length (cm)</th>\n",
              "      <th>petal width (cm)</th>\n",
              "      <th>target</th>\n",
              "    </tr>\n",
              "  </thead>\n",
              "  <tbody>\n",
              "    <tr>\n",
              "      <th>0</th>\n",
              "      <td>5.1</td>\n",
              "      <td>3.5</td>\n",
              "      <td>1.4</td>\n",
              "      <td>0.2</td>\n",
              "      <td>0</td>\n",
              "    </tr>\n",
              "    <tr>\n",
              "      <th>1</th>\n",
              "      <td>4.9</td>\n",
              "      <td>3.0</td>\n",
              "      <td>1.4</td>\n",
              "      <td>0.2</td>\n",
              "      <td>0</td>\n",
              "    </tr>\n",
              "    <tr>\n",
              "      <th>2</th>\n",
              "      <td>4.7</td>\n",
              "      <td>3.2</td>\n",
              "      <td>1.3</td>\n",
              "      <td>0.2</td>\n",
              "      <td>0</td>\n",
              "    </tr>\n",
              "    <tr>\n",
              "      <th>3</th>\n",
              "      <td>4.6</td>\n",
              "      <td>3.1</td>\n",
              "      <td>1.5</td>\n",
              "      <td>0.2</td>\n",
              "      <td>0</td>\n",
              "    </tr>\n",
              "    <tr>\n",
              "      <th>4</th>\n",
              "      <td>5.0</td>\n",
              "      <td>3.6</td>\n",
              "      <td>1.4</td>\n",
              "      <td>0.2</td>\n",
              "      <td>0</td>\n",
              "    </tr>\n",
              "  </tbody>\n",
              "</table>\n",
              "</div>"
            ],
            "text/plain": [
              "   sepal length (cm)  sepal width (cm)  petal length (cm)  petal width (cm)  \\\n",
              "0                5.1               3.5                1.4               0.2   \n",
              "1                4.9               3.0                1.4               0.2   \n",
              "2                4.7               3.2                1.3               0.2   \n",
              "3                4.6               3.1                1.5               0.2   \n",
              "4                5.0               3.6                1.4               0.2   \n",
              "\n",
              "   target  \n",
              "0       0  \n",
              "1       0  \n",
              "2       0  \n",
              "3       0  \n",
              "4       0  "
            ]
          },
          "execution_count": 3,
          "metadata": {},
          "output_type": "execute_result"
        }
      ],
      "source": [
        "#Cargar el conjunto de datos de Iris\n",
        "iris = load_iris()\n",
        "\n",
        "#Convertirlo a un DataFrame de pandas para una mejor visualización\n",
        "dfIris = pd.DataFrame(data=iris.data, columns=iris.feature_names)\n",
        "dfIris['target'] = iris.target\n",
        "\n",
        "#Mostrar las primeras filas del DataFrame\n",
        "dfIris.head()"
      ]
    },
    {
      "cell_type": "code",
      "execution_count": 4,
      "metadata": {},
      "outputs": [
        {
          "name": "stdout",
          "output_type": "stream",
          "text": [
            "Tamaño del conjunto de entrenamiento: (120, 4)\n",
            "Tamaño del conjunto de validación: (30, 4)\n"
          ]
        }
      ],
      "source": [
        "#Definir las características (X) y las etiquetas (y)\n",
        "X = iris.data\n",
        "y = iris.target\n",
        "\n",
        "#Dividir el conjunto de datos en entrenamiento (80%) y validación (20%)\n",
        "X_train, X_val, y_train, y_val = train_test_split(X, y, test_size=0.2, random_state=42)\n",
        "\n",
        "#Mostrar las dimensiones de los conjuntos de datos\n",
        "print(\"Tamaño del conjunto de entrenamiento:\", X_train.shape)\n",
        "print(\"Tamaño del conjunto de validación:\", X_val.shape)"
      ]
    },
    {
      "cell_type": "markdown",
      "metadata": {},
      "source": [
        "## Task 2"
      ]
    },
    {
      "cell_type": "code",
      "execution_count": 5,
      "metadata": {},
      "outputs": [
        {
          "name": "stderr",
          "output_type": "stream",
          "text": [
            "c:\\Users\\Usuario\\AppData\\Local\\Programs\\Python\\Python38\\lib\\site-packages\\tqdm\\auto.py:21: TqdmWarning: IProgress not found. Please update jupyter and ipywidgets. See https://ipywidgets.readthedocs.io/en/stable/user_install.html\n",
            "  from .autonotebook import tqdm as notebook_tqdm\n"
          ]
        }
      ],
      "source": [
        "import torch\n",
        "import torch.nn as nn\n",
        "import torch.nn.functional as F"
      ]
    },
    {
      "cell_type": "code",
      "execution_count": 6,
      "metadata": {},
      "outputs": [],
      "source": [
        "class SimpleFeedForwardNN(nn.Module):\n",
        "    def __init__(self, input_size, hidden_size1, hidden_size2, output_size):\n",
        "        super(SimpleFeedForwardNN, self).__init__()\n",
        "        \n",
        "        #Definir las capas\n",
        "        self.fc1 = nn.Linear(input_size, hidden_size1)  #Capa de entrada a primera capa oculta\n",
        "        self.fc2 = nn.Linear(hidden_size1, hidden_size2)  #Primera capa oculta a segunda capa oculta\n",
        "        self.fc3 = nn.Linear(hidden_size2, output_size)  #Segunda capa oculta a capa de salida\n",
        "\n",
        "    def forward(self, x):\n",
        "        #Aplicar la función de activación ReLU en la primera capa\n",
        "        x = F.relu(self.fc1(x))\n",
        "        \n",
        "        #Aplicar la función de activación ReLU en la segunda capa\n",
        "        x = F.relu(self.fc2(x))\n",
        "        \n",
        "        #La capa de salida no suele tener función de activación en problemas de clasificación\n",
        "        x = self.fc3(x)\n",
        "        \n",
        "        return x"
      ]
    },
    {
      "cell_type": "code",
      "execution_count": 7,
      "metadata": {},
      "outputs": [
        {
          "name": "stdout",
          "output_type": "stream",
          "text": [
            "SimpleFeedForwardNN(\n",
            "  (fc1): Linear(in_features=4, out_features=16, bias=True)\n",
            "  (fc2): Linear(in_features=16, out_features=8, bias=True)\n",
            "  (fc3): Linear(in_features=8, out_features=3, bias=True)\n",
            ")\n"
          ]
        }
      ],
      "source": [
        "inputSize = 4  #4 características para el dataset de Iris\n",
        "hiddenSize1 = 16  #Número de neuronas en la primera capa oculta\n",
        "hiddenSize2 = 8  #Número de neuronas en la segunda capa oculta\n",
        "outputSize = 3  #3 clases en el dataset de Iris\n",
        "\n",
        "#Instanciar la red neuronal\n",
        "model = SimpleFeedForwardNN(inputSize, hiddenSize1, hiddenSize2, outputSize)\n",
        "\n",
        "#Mostrar la estructura del modelo\n",
        "print(model)"
      ]
    },
    {
      "cell_type": "markdown",
      "metadata": {},
      "source": [
        "## Task 3"
      ]
    },
    {
      "cell_type": "code",
      "execution_count": 8,
      "metadata": {},
      "outputs": [],
      "source": [
        "import torch\n",
        "import torch.nn as nn\n",
        "import torch.optim as optim\n",
        "from sklearn.datasets import load_iris\n",
        "from sklearn.model_selection import train_test_split\n",
        "from sklearn.preprocessing import StandardScaler\n",
        "import numpy as np"
      ]
    },
    {
      "cell_type": "code",
      "execution_count": 10,
      "metadata": {},
      "outputs": [],
      "source": [
        "#Estandarizar las características\n",
        "scaler = StandardScaler()\n",
        "X = scaler.fit_transform(X)\n",
        "\n",
        "#Dividir los datos en conjuntos de entrenamiento y prueba\n",
        "X_train, X_test, y_train, y_test = train_test_split(X, y, test_size=0.2, random_state=42)\n",
        "\n",
        "#Convertir los datos a tensores de PyTorch\n",
        "X_train = torch.tensor(X_train, dtype=torch.float32)\n",
        "y_train = torch.tensor(y_train, dtype=torch.long)\n",
        "X_test = torch.tensor(X_test, dtype=torch.float32)\n",
        "y_test = torch.tensor(y_test, dtype=torch.long)"
      ]
    },
    {
      "cell_type": "code",
      "execution_count": 13,
      "metadata": {},
      "outputs": [],
      "source": [
        "#Ajustar la red neuronal\n",
        "class SimpleFeedForwardNN(nn.Module):\n",
        "    def __init__(self, input_size, hidden_size1, hidden_size2, output_size):\n",
        "        super(SimpleFeedForwardNN, self).__init__()\n",
        "        self.fc1 = nn.Linear(input_size, hidden_size1)\n",
        "        self.fc2 = nn.Linear(hidden_size1, hidden_size2)\n",
        "        self.fc3 = nn.Linear(hidden_size2, output_size)\n",
        "\n",
        "    def forward(self, x):\n",
        "        x = F.relu(self.fc1(x))\n",
        "        x = F.relu(self.fc2(x))\n",
        "        x = self.fc3(x)\n",
        "        return x"
      ]
    },
    {
      "cell_type": "code",
      "execution_count": 14,
      "metadata": {},
      "outputs": [],
      "source": [
        "def trainAndEvaluate(model, loss_fn, optimizer, X_train, y_train, X_test, y_test, epochs=100, loss_type='cross_entropy'):\n",
        "    #Listas para registrar las pérdidas\n",
        "    train_losses = []\n",
        "    test_losses = []\n",
        "\n",
        "    for epoch in range(epochs):\n",
        "        #Modo de entrenamiento\n",
        "        model.train()\n",
        "        optimizer.zero_grad()\n",
        "        outputs = model(X_train)\n",
        "\n",
        "        if loss_type == 'cross_entropy':\n",
        "            loss = loss_fn(outputs, y_train)\n",
        "        elif loss_type == 'mse':\n",
        "            y_train_one_hot = F.one_hot(y_train, num_classes=3).float()\n",
        "            loss = loss_fn(outputs, y_train_one_hot)\n",
        "        elif loss_type == 'nll':\n",
        "            outputs = F.log_softmax(outputs, dim=1)\n",
        "            loss = loss_fn(outputs, y_train)\n",
        "\n",
        "        loss.backward()\n",
        "        optimizer.step()\n",
        "\n",
        "        #Modo de evaluación\n",
        "        model.eval()\n",
        "        with torch.no_grad():\n",
        "            if loss_type == 'cross_entropy':\n",
        "                train_loss = loss_fn(model(X_train), y_train).item()\n",
        "                test_loss = loss_fn(model(X_test), y_test).item()\n",
        "            elif loss_type == 'mse':\n",
        "                y_train_one_hot = F.one_hot(y_train, num_classes=3).float()\n",
        "                y_test_one_hot = F.one_hot(y_test, num_classes=3).float()\n",
        "                train_loss = loss_fn(model(X_train), y_train_one_hot).item()\n",
        "                test_loss = loss_fn(model(X_test), y_test_one_hot).item()\n",
        "            elif loss_type == 'nll':\n",
        "                train_loss = loss_fn(F.log_softmax(model(X_train), dim=1), y_train).item()\n",
        "                test_loss = loss_fn(F.log_softmax(model(X_test), dim=1), y_test).item()\n",
        "\n",
        "        train_losses.append(train_loss)\n",
        "        test_losses.append(test_loss)\n",
        "\n",
        "        if (epoch+1) % 10 == 0:\n",
        "            print(f\"Epoch {epoch+1}/{epochs}, Train Loss: {train_loss:.4f}, Test Loss: {test_loss:.4f}\")\n",
        "\n",
        "    return train_losses, test_losses\n"
      ]
    },
    {
      "cell_type": "code",
      "execution_count": 15,
      "metadata": {},
      "outputs": [
        {
          "name": "stdout",
          "output_type": "stream",
          "text": [
            "\n",
            "Entrenando con CrossEntropyLoss\n",
            "Epoch 10/100, Train Loss: 1.0967, Test Loss: 1.0858\n",
            "Epoch 20/100, Train Loss: 1.0534, Test Loss: 1.0439\n",
            "Epoch 30/100, Train Loss: 1.0093, Test Loss: 1.0013\n",
            "Epoch 40/100, Train Loss: 0.9613, Test Loss: 0.9549\n",
            "Epoch 50/100, Train Loss: 0.9087, Test Loss: 0.9034\n",
            "Epoch 60/100, Train Loss: 0.8515, Test Loss: 0.8471\n",
            "Epoch 70/100, Train Loss: 0.7906, Test Loss: 0.7864\n",
            "Epoch 80/100, Train Loss: 0.7290, Test Loss: 0.7238\n",
            "Epoch 90/100, Train Loss: 0.6698, Test Loss: 0.6624\n",
            "Epoch 100/100, Train Loss: 0.6161, Test Loss: 0.6066\n",
            "\n",
            "Entrenando con MSELoss\n",
            "Epoch 10/100, Train Loss: 0.2342, Test Loss: 0.2157\n",
            "Epoch 20/100, Train Loss: 0.2181, Test Loss: 0.2003\n",
            "Epoch 30/100, Train Loss: 0.2015, Test Loss: 0.1851\n",
            "Epoch 40/100, Train Loss: 0.1852, Test Loss: 0.1708\n",
            "Epoch 50/100, Train Loss: 0.1698, Test Loss: 0.1583\n",
            "Epoch 60/100, Train Loss: 0.1563, Test Loss: 0.1475\n",
            "Epoch 70/100, Train Loss: 0.1450, Test Loss: 0.1381\n",
            "Epoch 80/100, Train Loss: 0.1358, Test Loss: 0.1300\n",
            "Epoch 90/100, Train Loss: 0.1282, Test Loss: 0.1227\n",
            "Epoch 100/100, Train Loss: 0.1215, Test Loss: 0.1160\n",
            "\n",
            "Entrenando con NLLLoss\n",
            "Epoch 10/100, Train Loss: 1.0976, Test Loss: 1.1118\n",
            "Epoch 20/100, Train Loss: 1.0668, Test Loss: 1.0747\n",
            "Epoch 30/100, Train Loss: 1.0350, Test Loss: 1.0375\n",
            "Epoch 40/100, Train Loss: 0.9992, Test Loss: 0.9970\n",
            "Epoch 50/100, Train Loss: 0.9557, Test Loss: 0.9485\n",
            "Epoch 60/100, Train Loss: 0.9027, Test Loss: 0.8915\n",
            "Epoch 70/100, Train Loss: 0.8413, Test Loss: 0.8262\n",
            "Epoch 80/100, Train Loss: 0.7739, Test Loss: 0.7555\n",
            "Epoch 90/100, Train Loss: 0.7062, Test Loss: 0.6855\n",
            "Epoch 100/100, Train Loss: 0.6433, Test Loss: 0.6203\n"
          ]
        }
      ],
      "source": [
        "#Parámetros del modelo\n",
        "input_size = 4\n",
        "hidden_size1 = 16\n",
        "hidden_size2 = 8\n",
        "output_size = 3\n",
        "\n",
        "#Inicializar el modelo\n",
        "model = SimpleFeedForwardNN(input_size, hidden_size1, hidden_size2, output_size)\n",
        "\n",
        "#Definir optimizador\n",
        "optimizer = optim.Adam(model.parameters(), lr=0.001)\n",
        "\n",
        "loss_functions = {\n",
        "    \"CrossEntropyLoss\": (nn.CrossEntropyLoss(), 'cross_entropy'),\n",
        "    \"MSELoss\": (nn.MSELoss(), 'mse'),\n",
        "    \"NLLLoss\": (nn.NLLLoss(), 'nll')\n",
        "}\n",
        "\n",
        "all_train_losses = {}\n",
        "all_test_losses = {}\n",
        "\n",
        "for name, (loss_fn, loss_type) in loss_functions.items():\n",
        "    print(f\"\\nEntrenando con {name}\")\n",
        "    model = SimpleFeedForwardNN(input_size, hidden_size1, hidden_size2, output_size)  # Reiniciar el modelo\n",
        "    optimizer = optim.Adam(model.parameters(), lr=0.001)  # Reiniciar el optimizador\n",
        "    train_losses, test_losses = trainAndEvaluate(model, loss_fn, optimizer, X_train, y_train, X_test, y_test, loss_type=loss_type)\n",
        "    all_train_losses[name] = train_losses\n",
        "    all_test_losses[name] = test_losses"
      ]
    },
    {
      "cell_type": "code",
      "execution_count": 16,
      "metadata": {},
      "outputs": [],
      "source": [
        "import matplotlib.pyplot as plt"
      ]
    },
    {
      "cell_type": "code",
      "execution_count": 17,
      "metadata": {},
      "outputs": [
        {
          "data": {
            "image/png": "[encoded data removed]",
            "text/plain": [
              "<Figure size 640x480 with 1 Axes>"
            ]
          },
          "metadata": {},
          "output_type": "display_data"
        }
      ],
      "source": [
        "#Visualizar las pérdidas\n",
        "for name in loss_functions.keys():\n",
        "    plt.plot(all_train_losses[name], label=f'{name} Train Loss')\n",
        "    plt.plot(all_test_losses[name], label=f'{name} Test Loss')\n",
        "\n",
        "plt.xlabel('Epochs')\n",
        "plt.ylabel('Loss')\n",
        "plt.title('Train and Test Losses for Different Loss Functions')\n",
        "plt.legend()\n",
        "plt.show()"
      ]
    }
  ],
  "metadata": {
    "colab": {
      "provenance": []
    },
    "kernelspec": {
      "display_name": "Python 3",
      "name": "python3"
    },
    "language_info": {
      "codemirror_mode": {
        "name": "ipython",
        "version": 3
      },
      "file_extension": ".py",
      "mimetype": "text/x-python",
      "name": "python",
      "nbconvert_exporter": "python",
      "pygments_lexer": "ipython3",
      "version": "3.8.10"
    }
  },
  "nbformat": 4,
  "nbformat_minor": 0
}
